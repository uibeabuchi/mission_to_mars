{
 "cells": [
  {
   "cell_type": "code",
   "execution_count": 1,
   "metadata": {
    "scrolled": true
   },
   "outputs": [],
   "source": [
    "import requests\n",
    "import urllib.request\n",
    "import time\n",
    "from bs4 import BeautifulSoup"
   ]
  },
  {
   "cell_type": "code",
   "execution_count": 2,
   "metadata": {},
   "outputs": [
    {
     "data": {
      "text/plain": [
       "<Response [200]>"
      ]
     },
     "execution_count": 2,
     "metadata": {},
     "output_type": "execute_result"
    }
   ],
   "source": [
    "url = 'https://mars.nasa.gov/news/?page=0&per_page=40&order=publish_date+desc%2Ccreated_at+desc&search=&category=19%2C165%2C184%2C204&blank_scope=Latest'\n",
    "response = requests.get(url, timeout=5)\n",
    "response\n",
    "# page_response = requests.get(page_link, )"
   ]
  },
  {
   "cell_type": "code",
   "execution_count": 3,
   "metadata": {},
   "outputs": [],
   "source": [
    "soup = BeautifulSoup(response.text, \"html.parser\")\n"
   ]
  },
  {
   "cell_type": "code",
   "execution_count": 4,
   "metadata": {},
   "outputs": [
    {
     "data": {
      "text/plain": [
       "[<a class=\"nasa_logo\" href=\"http://www.nasa.gov\" target=\"_blank\" title=\"visit nasa.gov\">NASA</a>,\n",
       " <a class=\"top_logo\" href=\"https://science.nasa.gov/\" target=\"_blank\" title=\"Explore NASA Science\">NASA Science</a>,\n",
       " <a class=\"sub_logo\" href=\"/mars-exploration/#\" title=\"Mars\">Mars Exploration Program</a>,\n",
       " <a class=\"visuallyhidden focusable\" href=\"#page\">Skip Navigation</a>,\n",
       " <a class=\"menu_button\" href=\"javascript:void(0);\" id=\"menu_button\">\n",
       " <span class=\"menu_icon\">\n",
       " menu\n",
       " </span>\n",
       " </a>,\n",
       " <a class=\"modal_close\" id=\"modal_close\">\n",
       " <span class=\"modal_close_icon\"></span>\n",
       " </a>,\n",
       " <a href=\"/news/8442/nasas-curiosity-mars-rover-finds-a-clay-cache/\">\n",
       " <div class=\"rollover_description\">\n",
       " <div class=\"rollover_description_inner\">\n",
       " The rover recently drilled two samples, and both showed the highest levels of clay ever found during the mission.\n",
       " </div>\n",
       " <div class=\"overlay_arrow\">\n",
       " <img alt=\"More\" src=\"/assets/overlay-arrow.png\"/>\n",
       " </div>\n",
       " </div>\n",
       " <img alt=\"NASA's Curiosity Mars Rover Finds a Clay Cache\" class=\"img-lazy\" data-lazy=\"/system/news_items/list_view_images/8442_PIA23240_32x24.jpg\" src=\"/assets/loading_320x240.png\"/>\n",
       " </a>,\n",
       " <a href=\"/news/8442/nasas-curiosity-mars-rover-finds-a-clay-cache/\">\n",
       " NASA's Curiosity Mars Rover Finds a Clay Cache\n",
       " </a>,\n",
       " <a href=\"/news/8436/why-this-martian-full-moon-looks-like-candy/\">\n",
       " <div class=\"rollover_description\">\n",
       " <div class=\"rollover_description_inner\">\n",
       " For the first time, NASA's Mars Odyssey orbiter has caught the Martian moon Phobos during a full moon phase. Each color in this new image represents a temperature range detected by Odyssey's infrared camera.\n",
       " </div>\n",
       " <div class=\"overlay_arrow\">\n",
       " <img alt=\"More\" src=\"/assets/overlay-arrow.png\"/>\n",
       " </div>\n",
       " </div>\n",
       " <img alt=\"Why This Martian Full Moon Looks Like Candy\" class=\"img-lazy\" data-lazy=\"/system/news_items/list_view_images/8436_PIA23205_annotated-32x24.jpg\" src=\"/assets/loading_320x240.png\"/>\n",
       " </a>,\n",
       " <a href=\"/news/8436/why-this-martian-full-moon-looks-like-candy/\">\n",
       " Why This Martian Full Moon Looks Like Candy\n",
       " </a>,\n",
       " <a href=\"/news/8426/nasa-garners-7-webby-award-nominations/\">\n",
       " <div class=\"rollover_description\">\n",
       " <div class=\"rollover_description_inner\">\n",
       " Nominees include four JPL projects: the solar system and climate websites, InSight social media, and a 360-degree Earth video. Public voting closes April 18, 2019.\n",
       " </div>\n",
       " <div class=\"overlay_arrow\">\n",
       " <img alt=\"More\" src=\"/assets/overlay-arrow.png\"/>\n",
       " </div>\n",
       " </div>\n",
       " <img alt=\"NASA Garners 7 Webby Award Nominations\" class=\"img-lazy\" data-lazy=\"/system/news_items/list_view_images/8426_Webby2019-320x240.jpg\" src=\"/assets/loading_320x240.png\"/>\n",
       " </a>,\n",
       " <a href=\"/news/8426/nasa-garners-7-webby-award-nominations/\">\n",
       " NASA Garners 7 Webby Award Nominations\n",
       " </a>,\n",
       " <a href=\"/news/8413/nasas-opportunity-rover-mission-on-mars-comes-to-end/\">\n",
       " <div class=\"rollover_description\">\n",
       " <div class=\"rollover_description_inner\">\n",
       " NASA's Opportunity Mars rover mission is complete after 15 years on Mars. Opportunity's record-breaking exploration laid the groundwork for future missions to the Red Planet.\n",
       " </div>\n",
       " <div class=\"overlay_arrow\">\n",
       " <img alt=\"More\" src=\"/assets/overlay-arrow.png\"/>\n",
       " </div>\n",
       " </div>\n",
       " <img alt=\"NASA's Opportunity Rover Mission on Mars Comes to End\" class=\"img-lazy\" data-lazy=\"/system/news_items/list_view_images/8413_PIA06739-320x240.jpg\" src=\"/assets/loading_320x240.png\"/>\n",
       " </a>,\n",
       " <a href=\"/news/8413/nasas-opportunity-rover-mission-on-mars-comes-to-end/\">\n",
       " NASA's Opportunity Rover Mission on Mars Comes to End\n",
       " </a>,\n",
       " <a href=\"/news/8402/nasas-insight-places-first-instrument-on-mars/\">\n",
       " <div class=\"rollover_description\">\n",
       " <div class=\"rollover_description_inner\">\n",
       " In deploying its first instrument onto the surface of Mars, the lander completes a major mission milestone.\n",
       " </div>\n",
       " <div class=\"overlay_arrow\">\n",
       " <img alt=\"More\" src=\"/assets/overlay-arrow.png\"/>\n",
       " </div>\n",
       " </div>\n",
       " <img alt=\"NASA's InSight Places First Instrument on Mars\" class=\"img-lazy\" data-lazy=\"/system/news_items/list_view_images/8402_PIA22977_SEIS_deploy_IDC_calibrated-th.gif\" src=\"/assets/loading_320x240.png\"/>\n",
       " </a>,\n",
       " <a href=\"/news/8402/nasas-insight-places-first-instrument-on-mars/\">\n",
       " NASA's InSight Places First Instrument on Mars\n",
       " </a>,\n",
       " <a href=\"/news/8387/nasa-announces-landing-site-for-mars-2020-rover/\">\n",
       " <div class=\"rollover_description\">\n",
       " <div class=\"rollover_description_inner\">\n",
       " After a five-year search, NASA has chosen Jezero Crater as the landing site for its upcoming Mars 2020 rover mission.\n",
       " </div>\n",
       " <div class=\"overlay_arrow\">\n",
       " <img alt=\"More\" src=\"/assets/overlay-arrow.png\"/>\n",
       " </div>\n",
       " </div>\n",
       " <img alt=\"NASA Announces Landing Site for Mars 2020 Rover\" class=\"img-lazy\" data-lazy=\"/system/news_items/list_view_images/8387_JezeroCrater-320x240.jpg\" src=\"/assets/loading_320x240.png\"/>\n",
       " </a>,\n",
       " <a href=\"/news/8387/nasa-announces-landing-site-for-mars-2020-rover/\">\n",
       " NASA Announces Landing Site for Mars 2020 Rover\n",
       " </a>,\n",
       " <a addthis:userid=\"MarsCuriosity\" class=\"addthis_button_twitter_follow icon\">\n",
       " <img alt=\"twitter\" src=\"/assets/twitter_icon@2x.png\"/>\n",
       " </a>,\n",
       " <a addthis:userid=\"MarsCuriosity\" class=\"addthis_button_facebook_follow icon\">\n",
       " <img alt=\"facebook\" src=\"/assets/facebook_icon@2x.png\"/>\n",
       " </a>,\n",
       " <a addthis:userid=\"nasa\" class=\"addthis_button_instagram_follow icon\">\n",
       " <img alt=\"instagram\" src=\"/assets/instagram_icon@2x.png\"/>\n",
       " </a>,\n",
       " <a addthis:url=\"https://mars.nasa.gov/rss/api/?feed=news&amp;category=all&amp;feedtype=rss\" class=\"addthis_button_rss_follow icon\">\n",
       " <img alt=\"rss\" src=\"/assets/rss_icon@2x.png\"/>\n",
       " </a>,\n",
       " <a href=\"/#red_planet\">The Red Planet</a>,\n",
       " <a href=\"/#red_planet/0\" target=\"_self\">Dashboard</a>,\n",
       " <a href=\"/#red_planet/1\" target=\"_self\">Science Goals</a>,\n",
       " <a href=\"/#red_planet/2\" target=\"_self\">The Planet</a>,\n",
       " <a href=\"/#red_planet/3\" target=\"_self\">Atmosphere</a>,\n",
       " <a href=\"/#red_planet/4\" target=\"_self\">Astrobiology</a>,\n",
       " <a href=\"/#red_planet/5\" target=\"_self\">Past, Present, Future, Timeline</a>,\n",
       " <a href=\"/#mars_exploration_program\">The Program</a>,\n",
       " <a href=\"/#mars_exploration_program/0\" target=\"_self\">Mission Statement</a>,\n",
       " <a href=\"/#mars_exploration_program/1\" target=\"_self\">About the Program</a>,\n",
       " <a href=\"/#mars_exploration_program/2\" target=\"_self\">Organization</a>,\n",
       " <a href=\"/#mars_exploration_program/3\" target=\"_self\">Why Mars?</a>,\n",
       " <a href=\"/#mars_exploration_program/4\" target=\"_self\">Research Programs</a>,\n",
       " <a href=\"/#mars_exploration_program/5\" target=\"_self\">Planetary Resources</a>,\n",
       " <a href=\"/#mars_exploration_program/6\" target=\"_self\">Technologies</a>,\n",
       " <a href=\"/#news_and_events\">News &amp; Events</a>,\n",
       " <a href=\"/news\" target=\"_self\">News</a>,\n",
       " <a href=\"/events\" target=\"_self\">Events</a>,\n",
       " <a href=\"/#multimedia\">Multimedia</a>,\n",
       " <a href=\"/multimedia/images/\" target=\"_self\">Images</a>,\n",
       " <a href=\"/multimedia/videos/\" target=\"_self\">Videos</a>,\n",
       " <a href=\"/#missions\">Missions</a>,\n",
       " <a href=\"/mars-exploration/missions/?category=167\" target=\"_self\">Past</a>,\n",
       " <a href=\"/mars-exploration/missions/?category=170\" target=\"_self\">Present</a>,\n",
       " <a href=\"/mars-exploration/missions/?category=171\" target=\"_self\">Future</a>,\n",
       " <a href=\"/mars-exploration/partners\" target=\"_self\">International Partners</a>,\n",
       " <a href=\"/#more\">More</a>,\n",
       " <a href=\"/legacy\">Legacy Site</a>,\n",
       " <a class=\"\" href=\"/legacy\" target=\"_self\">Legacy Site</a>,\n",
       " <a href=\"http://science.nasa.gov/\" target=\"_blank\">NASA Science Mission Directorate</a>,\n",
       " <a href=\"https://www.jpl.nasa.gov/copyrights.php\" target=\"_blank\">Privacy</a>,\n",
       " <a href=\"http://www.jpl.nasa.gov/imagepolicy/\" target=\"_blank\">Image Policy</a>,\n",
       " <a href=\"https://mars.nasa.gov/feedback/\" target=\"_self\">Feedback</a>,\n",
       " <a href=\"http://mars.nasa.gov/legacy\" target=\"_blank\">Legacy Mars Site</a>]"
      ]
     },
     "execution_count": 4,
     "metadata": {},
     "output_type": "execute_result"
    }
   ],
   "source": [
    "soup.findAll('a')"
   ]
  },
  {
   "cell_type": "code",
   "execution_count": 5,
   "metadata": {},
   "outputs": [],
   "source": [
    "one_a_tag = soup.findAll('a')[45]\n",
    "link = one_a_tag['href']"
   ]
  },
  {
   "cell_type": "code",
   "execution_count": 6,
   "metadata": {},
   "outputs": [
    {
     "data": {
      "text/plain": [
       "'/mars-exploration/missions/?category=170'"
      ]
     },
     "execution_count": 6,
     "metadata": {},
     "output_type": "execute_result"
    }
   ],
   "source": [
    "link\n"
   ]
  },
  {
   "cell_type": "code",
   "execution_count": 8,
   "metadata": {},
   "outputs": [],
   "source": [
    "# textContent = []\n",
    "# for i in range(0, 20):\n",
    "#     paragraphs = page_content.find_all(\"p\")[i].text\n",
    "#     textContent.append(paragraphs)"
   ]
  },
  {
   "cell_type": "code",
   "execution_count": null,
   "metadata": {},
   "outputs": [],
   "source": []
  },
  {
   "cell_type": "code",
   "execution_count": null,
   "metadata": {},
   "outputs": [],
   "source": []
  },
  {
   "cell_type": "code",
   "execution_count": null,
   "metadata": {},
   "outputs": [],
   "source": []
  },
  {
   "cell_type": "code",
   "execution_count": null,
   "metadata": {},
   "outputs": [],
   "source": []
  },
  {
   "cell_type": "code",
   "execution_count": null,
   "metadata": {},
   "outputs": [],
   "source": []
  },
  {
   "cell_type": "code",
   "execution_count": null,
   "metadata": {},
   "outputs": [],
   "source": []
  },
  {
   "cell_type": "code",
   "execution_count": null,
   "metadata": {},
   "outputs": [],
   "source": []
  },
  {
   "cell_type": "code",
   "execution_count": null,
   "metadata": {},
   "outputs": [],
   "source": []
  },
  {
   "cell_type": "code",
   "execution_count": null,
   "metadata": {},
   "outputs": [],
   "source": []
  },
  {
   "cell_type": "code",
   "execution_count": null,
   "metadata": {},
   "outputs": [],
   "source": []
  }
 ],
 "metadata": {
  "kernelspec": {
   "display_name": "Python 3",
   "language": "python",
   "name": "python3"
  },
  "language_info": {
   "codemirror_mode": {
    "name": "ipython",
    "version": 3
   },
   "file_extension": ".py",
   "mimetype": "text/x-python",
   "name": "python",
   "nbconvert_exporter": "python",
   "pygments_lexer": "ipython3",
   "version": "3.7.3"
  }
 },
 "nbformat": 4,
 "nbformat_minor": 2
}
